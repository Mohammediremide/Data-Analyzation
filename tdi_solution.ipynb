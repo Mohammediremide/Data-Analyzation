{
 "cells": [
  {
   "cell_type": "markdown",
   "metadata": {},
   "source": [
    "# TDI PYTHON PROJECT WEEK THREE \n",
    "## Week 3: Exploring and Analyzing Data with Python "
   ]
  },
  {
   "cell_type": "markdown",
   "metadata": {},
   "source": [
    "### 1. Reading a Text File \n",
    "- Write a Python script that opens a file in read mode and prints its contents. \n",
    "- Use any .txt file for practice. "
   ]
  },
  {
   "cell_type": "code",
   "execution_count": 2,
   "metadata": {},
   "outputs": [],
   "source": [
    "# 1. Reading a Text File\n",
    "try:\n",
    "    file = open(\"output.txt\", \"r\")\n",
    "    text_content = file.read()\n",
    "except FileNotFoundError:\n",
    "    print(\"The file you want to read doesn't exist\")\n",
    "finally:\n",
    "    file.close()"
   ]
  },
  {
   "cell_type": "markdown",
   "metadata": {},
   "source": [
    "### 2. Writing to a File \n",
    "- Create a Python script that writes the string \"Hello, Data Analysis!\" to a new text file."
   ]
  },
  {
   "cell_type": "code",
   "execution_count": 20,
   "metadata": {},
   "outputs": [
    {
     "name": "stdout",
     "output_type": "stream",
     "text": [
      "File Creation Successful\n"
     ]
    }
   ],
   "source": [
    "# 2. Writing to a File\n",
    "file = open(\"output.txt\", \"w\")\n",
    "file.write(\"Hello, Data Analysis!\")\n",
    "print('File Creation Successful')\n",
    "file.close()"
   ]
  },
  {
   "cell_type": "markdown",
   "metadata": {},
   "source": [
    "### 3. Reading the Titanic Dataset (CSV) \n",
    "- Use the csv module to read the Titanic dataset (titanic.csv). \n",
    "- Print the first 5 rows of the dataset. \n"
   ]
  },
  {
   "cell_type": "code",
   "execution_count": 19,
   "metadata": {},
   "outputs": [
    {
     "name": "stdout",
     "output_type": "stream",
     "text": [
      "['pclass', 'survived', 'name', 'sex', 'age', 'sibsp', 'parch', 'ticket', 'fare', 'cabin', 'embarked', 'boat', 'body', 'home.dest']\n",
      "['1', '1', 'Allen, Miss. Elisabeth Walton', 'female', '29', '0', '0', '24160', '211.3375', 'B5', 'S', '2', '', 'St Louis, MO']\n",
      "['1', '1', 'Allison, Master. Hudson Trevor', 'male', '0.9167', '1', '2', '113781', '151.55', 'C22 C26', 'S', '11', '', 'Montreal, PQ / Chesterville, ON']\n",
      "['1', '0', 'Allison, Miss. Helen Loraine', 'female', '2', '1', '2', '113781', '151.55', 'C22 C26', 'S', '', '', 'Montreal, PQ / Chesterville, ON']\n",
      "['1', '0', 'Allison, Mr. Hudson Joshua Creighton', 'male', '30', '1', '2', '113781', '151.55', 'C22 C26', 'S', '', '135', 'Montreal, PQ / Chesterville, ON']\n",
      "['1', '0', 'Allison, Mrs. Hudson J C (Bessie Waldo Daniels)', 'female', '25', '1', '2', '113781', '151.55', 'C22 C26', 'S', '', '', 'Montreal, PQ / Chesterville, ON']\n"
     ]
    }
   ],
   "source": [
    "# 3. Reading the Titanic Dataset\n",
    "import csv\n",
    "try:\n",
    "    file = open(\"tdi_titanic_data.csv\", \"r\")\n",
    "    reader = csv.reader(file)\n",
    "    for i, row in enumerate(reader):\n",
    "        if i <= 5:\n",
    "            print(row)\n",
    "except FileNotFoundError:\n",
    "    print(\"The file you want to read doesn't exist\")\n",
    "finally:\n",
    "    file.close()"
   ]
  },
  {
   "cell_type": "markdown",
   "metadata": {},
   "source": [
    "### 4. Counting Records \n",
    "- After reading the Titanic CSV file, count the total number of passengers."
   ]
  },
  {
   "cell_type": "code",
   "execution_count": 23,
   "metadata": {},
   "outputs": [
    {
     "name": "stdout",
     "output_type": "stream",
     "text": [
      "Total passengers: 1309\n"
     ]
    }
   ],
   "source": [
    "# 4. Counting Records\n",
    "try:\n",
    "    file = open(\"tdi_titanic_data.csv\", \"r\")\n",
    "    reader = list(csv.reader(file))\n",
    "    total_passengers = len(reader) - 1\n",
    "    print(\"Total passengers:\", total_passengers)\n",
    "except FileNotFoundError:\n",
    "    print(\"The file you want to read doesn't exist\")\n",
    "finally:\n",
    "    file.close()"
   ]
  },
  {
   "cell_type": "markdown",
   "metadata": {},
   "source": [
    "### 5. Calculating Average Fare \n",
    "- Write a script to calculate the average fare paid by passengers using the Titanic dataset. "
   ]
  },
  {
   "cell_type": "code",
   "execution_count": 30,
   "metadata": {},
   "outputs": [
    {
     "name": "stdout",
     "output_type": "stream",
     "text": [
      "Average Fare: 33.29547928134572\n"
     ]
    }
   ],
   "source": [
    "# 5. Calculating Average Fare\n",
    "fares = []\n",
    "try:\n",
    "    file = open(\"tdi_titanic_data.csv\", \"r\")\n",
    "    reader = csv.reader(file)\n",
    "    next(reader)  # Skip header\n",
    "    for row in reader:\n",
    "        if row[8]:\n",
    "            fares.append(float(row[8]))\n",
    "            average_fare = sum(fares) / len(fares)\n",
    "    print(\"Average Fare:\", average_fare)\n",
    "except FileNotFoundError:\n",
    "    print(\"The file you want to read doesn't exist\")\n",
    "finally:\n",
    "    file.close()"
   ]
  },
  {
   "cell_type": "markdown",
   "metadata": {},
   "source": [
    "### 6. Survivors by Class \n",
    "- Write a Python script to calculate the number of survivors per passenger class (1st, 2nd, and 3rd class)."
   ]
  },
  {
   "cell_type": "code",
   "execution_count": null,
   "metadata": {},
   "outputs": [
    {
     "name": "stdout",
     "output_type": "stream",
     "text": [
      "Survivors by class: {1: 200, 2: 119, 3: 181}\n"
     ]
    }
   ],
   "source": [
    "# 6. Survivor by class\n",
    "survivors_by_class = {1: 0, 2: 0, 3: 0}\n",
    "try:\n",
    "    file = open(\"tdi_titanic_data.csv\", \"r\")\n",
    "    reader = csv.reader(file)\n",
    "    next(reader)  # Skip header\n",
    "    for row in reader:\n",
    "        if row[0] == '1' and row[1] == '1':\n",
    "            survivors_by_class[1] += 1\n",
    "        elif row[0] == '2' and row[1] == '1':\n",
    "            survivors_by_class[2] += 1\n",
    "        elif row[0] == '3' and row[1] == '1':\n",
    "            survivors_by_class[3] += 1\n",
    "    print(\"Survivors by class:\", survivors_by_class)\n",
    "except FileNotFoundError:\n",
    "    print(\"The file you want to read doesn't exist\")\n",
    "finally:\n",
    "    file.close()"
   ]
  },
  {
   "cell_type": "markdown",
   "metadata": {},
   "source": [
    "### Introduction to NumPy \n",
    "#### 7. NumPy Basics \n",
    "- Import the NumPy library and create a 1D array containing the following numbers: [10, 15, 20, 25]. Print the array. "
   ]
  },
  {
   "cell_type": "code",
   "execution_count": 51,
   "metadata": {},
   "outputs": [],
   "source": [
    "import numpy as np"
   ]
  },
  {
   "cell_type": "code",
   "execution_count": 52,
   "metadata": {},
   "outputs": [
    {
     "name": "stdout",
     "output_type": "stream",
     "text": [
      "NumPy Array: [10 15 20 25]\n"
     ]
    }
   ],
   "source": [
    "# 7. NumPy Basics\n",
    "arr = np.array([10, 15, 20, 25])\n",
    "print(\"NumPy Array:\", arr)"
   ]
  },
  {
   "cell_type": "markdown",
   "metadata": {},
   "source": [
    "### 8. Array Operations \n",
    "- Using the array from the previous question, perform the following operations: \n",
    "\n",
    "    • Multiply each element by 2. \n",
    "    \n",
    "    • Subtract 5 from each element. "
   ]
  },
  {
   "cell_type": "code",
   "execution_count": 54,
   "metadata": {},
   "outputs": [
    {
     "name": "stdout",
     "output_type": "stream",
     "text": [
      "Array x2: [20 30 40 50]\n",
      "Array -5: [15 25 35 45]\n"
     ]
    }
   ],
   "source": [
    "# 8. Array Operations\n",
    "arr_multiplied = arr * 2\n",
    "arr_subtracted = arr_multiplied - 5\n",
    "print(\"Array x2:\", arr_multiplied)\n",
    "print(\"Array -5:\", arr_subtracted)"
   ]
  },
  {
   "cell_type": "markdown",
   "metadata": {},
   "source": [
    "### 9. 2D Array Creation \n",
    "- Create a 2D NumPy array with shape (3, 3) using the following data: \n",
    "\n",
    "    • First row: 1, 2, 3 \n",
    "\n",
    "    • Second row: 4, 5, 6 \n",
    "    \n",
    "    • Third row: 7, 8, 9 "
   ]
  },
  {
   "cell_type": "code",
   "execution_count": 57,
   "metadata": {},
   "outputs": [
    {
     "name": "stdout",
     "output_type": "stream",
     "text": [
      "2D Array: \n",
      " [[1 2 3]\n",
      " [4 5 6]\n",
      " [7 8 9]]\n"
     ]
    }
   ],
   "source": [
    "# 9. 2D NumPy Array\n",
    "arr_2d = np.array([[1, 2, 3], [4, 5, 6], [7, 8, 9]])\n",
    "print(\"2D Array: \\n\", arr_2d)"
   ]
  },
  {
   "cell_type": "markdown",
   "metadata": {},
   "source": [
    "### 10. Titanic Data with NumPy \n",
    "- Convert the Fare column of the Titanic dataset to a NumPy array and calculate: \n",
    "\n",
    "    • The minimum fare. \n",
    "\n",
    "    • The maximum fare.\n",
    "     \n",
    "    • The mean fare. \n"
   ]
  },
  {
   "cell_type": "code",
   "execution_count": 61,
   "metadata": {},
   "outputs": [
    {
     "name": "stdout",
     "output_type": "stream",
     "text": [
      "Min Fare: 0.0\n",
      "Max Fare: 512.3292\n",
      "Mean Fare: 33.29547928134557\n"
     ]
    }
   ],
   "source": [
    "# 10. Titanic Fare Stats\n",
    "fares_np = np.array(fares)\n",
    "min_fare = fares_np.min()\n",
    "max_fare = fares_np.max()\n",
    "mean_fare = fares_np.mean()\n",
    "\n",
    "\n",
    "print(\"Min Fare:\", min_fare)\n",
    "print(\"Max Fare:\", max_fare) \n",
    "print(\"Mean Fare:\", mean_fare)"
   ]
  },
  {
   "cell_type": "markdown",
   "metadata": {},
   "source": [
    "### 11. Array Indexing \n",
    "- Use array indexing to extract the first row and first column of the 2D array created earlier. Print the results. "
   ]
  },
  {
   "cell_type": "code",
   "execution_count": 62,
   "metadata": {},
   "outputs": [
    {
     "name": "stdout",
     "output_type": "stream",
     "text": [
      "First Row: [1 2 3]\n",
      "First Column: [1 4 7]\n"
     ]
    }
   ],
   "source": [
    "# 11. Array Indexing\n",
    "first_row = arr_2d[0]\n",
    "first_column = arr_2d[:, 0]\n",
    "print(\"First Row:\", first_row)\n",
    "print(\"First Column:\", first_column)"
   ]
  },
  {
   "cell_type": "markdown",
   "metadata": {},
   "source": [
    "### 12. Random Array \n",
    "- Create a NumPy array with 10 random numbers between 0 and 1. Print the array and find the maximum value. "
   ]
  },
  {
   "cell_type": "code",
   "execution_count": 63,
   "metadata": {},
   "outputs": [
    {
     "name": "stdout",
     "output_type": "stream",
     "text": [
      "Random Array: [0.62965607 0.61661871 0.59302344 0.12481364 0.46365301 0.46962299\n",
      " 0.5338354  0.97418492 0.81126321 0.44761989]\n",
      "Max Value: 0.9741849167320834\n"
     ]
    }
   ],
   "source": [
    "# 12. Random Array\n",
    "random_arr = np.random.rand(10)\n",
    "max_random_value = random_arr.max()\n",
    "print(\"Random Array:\", random_arr)\n",
    "print(\"Max Value:\", max_random_value)"
   ]
  },
  {
   "cell_type": "markdown",
   "metadata": {},
   "source": [
    "### 13. Survivor Analysis with NumPy \n",
    "- Use the Titanic dataset and convert the Survived column to a \n",
    "NumPy array. \n",
    "- Calculate the percentage of passengers who survived. "
   ]
  },
  {
   "cell_type": "code",
   "execution_count": 64,
   "metadata": {},
   "outputs": [
    {
     "name": "stdout",
     "output_type": "stream",
     "text": [
      "Survival Rate: 38.19709702062643 %\n"
     ]
    }
   ],
   "source": [
    "# 13. Survivor Percentage\n",
    "survived = []\n",
    "file = open(\"tdi_titanic_data.csv\", \"r\")\n",
    "reader = csv.reader(file)\n",
    "next(reader)\n",
    "for row in reader:\n",
    "    survived.append(int(row[1]))\n",
    "file.close()\n",
    "survival_rate = (sum(survived) / len(survived)) * 100\n",
    "print(\"Survival Rate:\", survival_rate, \"%\")"
   ]
  },
  {
   "cell_type": "code",
   "execution_count": null,
   "metadata": {},
   "outputs": [],
   "source": []
  }
 ],
 "metadata": {
  "kernelspec": {
   "display_name": "Python 3",
   "language": "python",
   "name": "python3"
  },
  "language_info": {
   "codemirror_mode": {
    "name": "ipython",
    "version": 3
   },
   "file_extension": ".py",
   "mimetype": "text/x-python",
   "name": "python",
   "nbconvert_exporter": "python",
   "pygments_lexer": "ipython3",
   "version": "3.13.2"
  }
 },
 "nbformat": 4,
 "nbformat_minor": 2
}
